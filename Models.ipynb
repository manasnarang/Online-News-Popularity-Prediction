{
  "nbformat": 4,
  "nbformat_minor": 0,
  "metadata": {
    "colab": {
      "provenance": []
    },
    "kernelspec": {
      "name": "python3",
      "display_name": "Python 3"
    },
    "language_info": {
      "name": "python"
    }
  },
  "cells": [
    {
      "cell_type": "code",
      "execution_count": null,
      "metadata": {
        "id": "8XHw4U9ZIgsi",
        "colab": {
          "base_uri": "https://localhost:8080/",
          "height": 73
        },
        "outputId": "9ccafbcb-0492-4e13-c513-68cc3d84b5b7"
      },
      "outputs": [
        {
          "output_type": "display_data",
          "data": {
            "text/plain": [
              "<IPython.core.display.HTML object>"
            ],
            "text/html": [
              "\n",
              "     <input type=\"file\" id=\"files-9e7c20eb-124e-4346-a6c6-95e3f697a8c3\" name=\"files[]\" multiple disabled\n",
              "        style=\"border:none\" />\n",
              "     <output id=\"result-9e7c20eb-124e-4346-a6c6-95e3f697a8c3\">\n",
              "      Upload widget is only available when the cell has been executed in the\n",
              "      current browser session. Please rerun this cell to enable.\n",
              "      </output>\n",
              "      <script>// Copyright 2017 Google LLC\n",
              "//\n",
              "// Licensed under the Apache License, Version 2.0 (the \"License\");\n",
              "// you may not use this file except in compliance with the License.\n",
              "// You may obtain a copy of the License at\n",
              "//\n",
              "//      http://www.apache.org/licenses/LICENSE-2.0\n",
              "//\n",
              "// Unless required by applicable law or agreed to in writing, software\n",
              "// distributed under the License is distributed on an \"AS IS\" BASIS,\n",
              "// WITHOUT WARRANTIES OR CONDITIONS OF ANY KIND, either express or implied.\n",
              "// See the License for the specific language governing permissions and\n",
              "// limitations under the License.\n",
              "\n",
              "/**\n",
              " * @fileoverview Helpers for google.colab Python module.\n",
              " */\n",
              "(function(scope) {\n",
              "function span(text, styleAttributes = {}) {\n",
              "  const element = document.createElement('span');\n",
              "  element.textContent = text;\n",
              "  for (const key of Object.keys(styleAttributes)) {\n",
              "    element.style[key] = styleAttributes[key];\n",
              "  }\n",
              "  return element;\n",
              "}\n",
              "\n",
              "// Max number of bytes which will be uploaded at a time.\n",
              "const MAX_PAYLOAD_SIZE = 100 * 1024;\n",
              "\n",
              "function _uploadFiles(inputId, outputId) {\n",
              "  const steps = uploadFilesStep(inputId, outputId);\n",
              "  const outputElement = document.getElementById(outputId);\n",
              "  // Cache steps on the outputElement to make it available for the next call\n",
              "  // to uploadFilesContinue from Python.\n",
              "  outputElement.steps = steps;\n",
              "\n",
              "  return _uploadFilesContinue(outputId);\n",
              "}\n",
              "\n",
              "// This is roughly an async generator (not supported in the browser yet),\n",
              "// where there are multiple asynchronous steps and the Python side is going\n",
              "// to poll for completion of each step.\n",
              "// This uses a Promise to block the python side on completion of each step,\n",
              "// then passes the result of the previous step as the input to the next step.\n",
              "function _uploadFilesContinue(outputId) {\n",
              "  const outputElement = document.getElementById(outputId);\n",
              "  const steps = outputElement.steps;\n",
              "\n",
              "  const next = steps.next(outputElement.lastPromiseValue);\n",
              "  return Promise.resolve(next.value.promise).then((value) => {\n",
              "    // Cache the last promise value to make it available to the next\n",
              "    // step of the generator.\n",
              "    outputElement.lastPromiseValue = value;\n",
              "    return next.value.response;\n",
              "  });\n",
              "}\n",
              "\n",
              "/**\n",
              " * Generator function which is called between each async step of the upload\n",
              " * process.\n",
              " * @param {string} inputId Element ID of the input file picker element.\n",
              " * @param {string} outputId Element ID of the output display.\n",
              " * @return {!Iterable<!Object>} Iterable of next steps.\n",
              " */\n",
              "function* uploadFilesStep(inputId, outputId) {\n",
              "  const inputElement = document.getElementById(inputId);\n",
              "  inputElement.disabled = false;\n",
              "\n",
              "  const outputElement = document.getElementById(outputId);\n",
              "  outputElement.innerHTML = '';\n",
              "\n",
              "  const pickedPromise = new Promise((resolve) => {\n",
              "    inputElement.addEventListener('change', (e) => {\n",
              "      resolve(e.target.files);\n",
              "    });\n",
              "  });\n",
              "\n",
              "  const cancel = document.createElement('button');\n",
              "  inputElement.parentElement.appendChild(cancel);\n",
              "  cancel.textContent = 'Cancel upload';\n",
              "  const cancelPromise = new Promise((resolve) => {\n",
              "    cancel.onclick = () => {\n",
              "      resolve(null);\n",
              "    };\n",
              "  });\n",
              "\n",
              "  // Wait for the user to pick the files.\n",
              "  const files = yield {\n",
              "    promise: Promise.race([pickedPromise, cancelPromise]),\n",
              "    response: {\n",
              "      action: 'starting',\n",
              "    }\n",
              "  };\n",
              "\n",
              "  cancel.remove();\n",
              "\n",
              "  // Disable the input element since further picks are not allowed.\n",
              "  inputElement.disabled = true;\n",
              "\n",
              "  if (!files) {\n",
              "    return {\n",
              "      response: {\n",
              "        action: 'complete',\n",
              "      }\n",
              "    };\n",
              "  }\n",
              "\n",
              "  for (const file of files) {\n",
              "    const li = document.createElement('li');\n",
              "    li.append(span(file.name, {fontWeight: 'bold'}));\n",
              "    li.append(span(\n",
              "        `(${file.type || 'n/a'}) - ${file.size} bytes, ` +\n",
              "        `last modified: ${\n",
              "            file.lastModifiedDate ? file.lastModifiedDate.toLocaleDateString() :\n",
              "                                    'n/a'} - `));\n",
              "    const percent = span('0% done');\n",
              "    li.appendChild(percent);\n",
              "\n",
              "    outputElement.appendChild(li);\n",
              "\n",
              "    const fileDataPromise = new Promise((resolve) => {\n",
              "      const reader = new FileReader();\n",
              "      reader.onload = (e) => {\n",
              "        resolve(e.target.result);\n",
              "      };\n",
              "      reader.readAsArrayBuffer(file);\n",
              "    });\n",
              "    // Wait for the data to be ready.\n",
              "    let fileData = yield {\n",
              "      promise: fileDataPromise,\n",
              "      response: {\n",
              "        action: 'continue',\n",
              "      }\n",
              "    };\n",
              "\n",
              "    // Use a chunked sending to avoid message size limits. See b/62115660.\n",
              "    let position = 0;\n",
              "    do {\n",
              "      const length = Math.min(fileData.byteLength - position, MAX_PAYLOAD_SIZE);\n",
              "      const chunk = new Uint8Array(fileData, position, length);\n",
              "      position += length;\n",
              "\n",
              "      const base64 = btoa(String.fromCharCode.apply(null, chunk));\n",
              "      yield {\n",
              "        response: {\n",
              "          action: 'append',\n",
              "          file: file.name,\n",
              "          data: base64,\n",
              "        },\n",
              "      };\n",
              "\n",
              "      let percentDone = fileData.byteLength === 0 ?\n",
              "          100 :\n",
              "          Math.round((position / fileData.byteLength) * 100);\n",
              "      percent.textContent = `${percentDone}% done`;\n",
              "\n",
              "    } while (position < fileData.byteLength);\n",
              "  }\n",
              "\n",
              "  // All done.\n",
              "  yield {\n",
              "    response: {\n",
              "      action: 'complete',\n",
              "    }\n",
              "  };\n",
              "}\n",
              "\n",
              "scope.google = scope.google || {};\n",
              "scope.google.colab = scope.google.colab || {};\n",
              "scope.google.colab._files = {\n",
              "  _uploadFiles,\n",
              "  _uploadFilesContinue,\n",
              "};\n",
              "})(self);\n",
              "</script> "
            ]
          },
          "metadata": {}
        },
        {
          "output_type": "stream",
          "name": "stdout",
          "text": [
            "Saving Data_Modified.csv to Data_Modified.csv\n"
          ]
        }
      ],
      "source": [
        "import numpy as np,matplotlib.pyplot as plt, pandas as pd\n",
        "from google.colab import files\n",
        "uploaded=files.upload()"
      ]
    },
    {
      "cell_type": "code",
      "source": [
        "import seaborn as sns\n",
        "from copy import copy\n",
        "from sklearn.manifold import TSNE"
      ],
      "metadata": {
        "id": "RRvGQxufBKvZ"
      },
      "execution_count": null,
      "outputs": []
    },
    {
      "cell_type": "code",
      "source": [
        "df=pd.read_csv('Data_Modified.csv')\n",
        "# print(df[' shares'].median())"
      ],
      "metadata": {
        "id": "2-B2YVoSBKyp"
      },
      "execution_count": null,
      "outputs": []
    },
    {
      "cell_type": "code",
      "source": [
        "df.drop(labels=['', '0'], axis = 1, inplace=True)\n",
        "\n",
        "df=df[df[' n_tokens_content'] != 0]\n",
        "\n",
        "df=df[df[' n_non_stop_words'] != 1042]\n",
        "\n",
        "df.drop(labels=[' n_non_stop_words'], axis = 1, inplace=True)\n",
        "\n",
        "original_data = copy(df)\n"
      ],
      "metadata": {
        "id": "l-ErmnHBBK7H"
      },
      "execution_count": null,
      "outputs": []
    },
    {
      "cell_type": "code",
      "source": [],
      "metadata": {
        "id": "WQUj0dF5G_YA"
      },
      "execution_count": null,
      "outputs": []
    },
    {
      "cell_type": "code",
      "source": [],
      "metadata": {
        "id": "pCPbewRzG_ir"
      },
      "execution_count": null,
      "outputs": []
    },
    {
      "cell_type": "markdown",
      "source": [
        "Data cleaning and class generation"
      ],
      "metadata": {
        "id": "T0FMxXQ9HD4D"
      }
    },
    {
      "cell_type": "code",
      "source": [
        "arr = df.to_numpy()\n",
        "X = arr[:,:-1]\n",
        "Y= arr[:,-1]\n",
        "Y = np.reshape(Y,(-1,1))\n",
        "# Y_sorted = np.sort(np.reshape(Y,(-1,)))\n",
        "# length = Y.shape[0]\n",
        "# min_val = Y_sorted[length//4]\n",
        "# max_val = Y_sorted[(3*length)//4]\n",
        "# Y_cleaned = []\n",
        "\n",
        "# for ele in Y_sorted:\n",
        "#     if(ele>min_val and ele<max_val):\n",
        "#         Y_cleaned.append(ele)\n",
        "# def find_class(ele,th1,th2,th3,th4):\n",
        "#     if ele<=th1:\n",
        "#         return 0\n",
        "#     elif ele<=th2:\n",
        "#         return 1\n",
        "#     elif ele<=th3:\n",
        "#         return 2\n",
        "#     elif ele<=th4:\n",
        "#         return 3\n",
        "#     else:\n",
        "#         return 4\n",
        "# thresholds = []\n",
        "# for i in range(5):\n",
        "#     thresholds.append(Y_cleaned[((i+1)*len(Y_cleaned))//5 - 1])\n",
        "classes = []\n",
        "def find_class(x):\n",
        "    return x-1\n",
        "for ele in Y:\n",
        "    classes.append(find_class(ele))"
      ],
      "metadata": {
        "id": "PKqK7QaMGgkF"
      },
      "execution_count": null,
      "outputs": []
    },
    {
      "cell_type": "code",
      "source": [
        "print(set(classes))"
      ],
      "metadata": {
        "colab": {
          "base_uri": "https://localhost:8080/",
          "height": 175
        },
        "id": "rDFXB9_DHJpB",
        "outputId": "5ef1e438-3d4a-4bb1-d6b6-87bf36f9ae24"
      },
      "execution_count": null,
      "outputs": [
        {
          "output_type": "error",
          "ename": "TypeError",
          "evalue": "ignored",
          "traceback": [
            "\u001b[0;31m---------------------------------------------------------------------------\u001b[0m",
            "\u001b[0;31mTypeError\u001b[0m                                 Traceback (most recent call last)",
            "\u001b[0;32m<ipython-input-18-21982f935454>\u001b[0m in \u001b[0;36m<cell line: 1>\u001b[0;34m()\u001b[0m\n\u001b[0;32m----> 1\u001b[0;31m \u001b[0mprint\u001b[0m\u001b[0;34m(\u001b[0m\u001b[0mset\u001b[0m\u001b[0;34m(\u001b[0m\u001b[0mclasses\u001b[0m\u001b[0;34m)\u001b[0m\u001b[0;34m)\u001b[0m\u001b[0;34m\u001b[0m\u001b[0;34m\u001b[0m\u001b[0m\n\u001b[0m",
            "\u001b[0;31mTypeError\u001b[0m: unhashable type: 'numpy.ndarray'"
          ]
        }
      ]
    },
    {
      "cell_type": "code",
      "source": [],
      "metadata": {
        "id": "nEnd2xeyOKuq"
      },
      "execution_count": null,
      "outputs": []
    },
    {
      "cell_type": "code",
      "source": [
        "X=df.drop(labels=['46','47'],axis=1)\n",
        "y=pd.DataFrame(classes)\n",
        "#y=df['47']\n",
        "#print(type(y)==type(X))"
      ],
      "metadata": {
        "id": "TNcjDNAEIMwX"
      },
      "execution_count": null,
      "outputs": []
    },
    {
      "cell_type": "code",
      "source": [],
      "metadata": {
        "id": "5Rr4PHrVHrvg"
      },
      "execution_count": null,
      "outputs": []
    },
    {
      "cell_type": "markdown",
      "source": [
        "Random Forest Classifier"
      ],
      "metadata": {
        "id": "21SQ4cxVIjST"
      }
    },
    {
      "cell_type": "code",
      "source": [
        "from sklearn.model_selection import train_test_split\n",
        "from sklearn.ensemble import RandomForestClassifier\n",
        "from sklearn.metrics import accuracy_score, classification_report\n",
        "\n",
        "\n",
        "X_train, X_test, y_train, y_test = train_test_split(X, y, test_size=0.2, random_state=42)\n",
        "\n",
        "clf = RandomForestClassifier(n_estimators=100, random_state=42)\n",
        "\n",
        "clf.fit(X_train, y_train)\n",
        "\n",
        "predictions = clf.predict(X_test)\n",
        "\n",
        "accuracy = accuracy_score(y_test, predictions)\n",
        "print(f\"Accuracy: {accuracy:.2f}\")\n",
        "\n",
        "print(\"Classification Report:\")\n",
        "print(classification_report(y_test, predictions))\n"
      ],
      "metadata": {
        "colab": {
          "base_uri": "https://localhost:8080/"
        },
        "id": "cvU9PeYJHrym",
        "outputId": "b56791b6-fb23-4f91-d7a6-3b9462b0bd9c"
      },
      "execution_count": null,
      "outputs": [
        {
          "output_type": "stream",
          "name": "stderr",
          "text": [
            "<ipython-input-21-77ed838a6519>:14: DataConversionWarning: A column-vector y was passed when a 1d array was expected. Please change the shape of y to (n_samples,), for example using ravel().\n",
            "  clf.fit(X_train, y_train)\n"
          ]
        },
        {
          "output_type": "stream",
          "name": "stdout",
          "text": [
            "Accuracy: 0.34\n",
            "Classification Report:\n",
            "              precision    recall  f1-score   support\n",
            "\n",
            "         0.0       0.40      0.58      0.47      1890\n",
            "         1.0       0.26      0.18      0.21      1534\n",
            "         2.0       0.24      0.11      0.15      1342\n",
            "         3.0       0.23      0.17      0.20      1354\n",
            "         4.0       0.39      0.54      0.46      1809\n",
            "\n",
            "    accuracy                           0.34      7929\n",
            "   macro avg       0.30      0.32      0.30      7929\n",
            "weighted avg       0.31      0.34      0.32      7929\n",
            "\n"
          ]
        }
      ]
    },
    {
      "cell_type": "code",
      "source": [],
      "metadata": {
        "id": "nB0-Eb1vHr1n"
      },
      "execution_count": null,
      "outputs": []
    },
    {
      "cell_type": "code",
      "source": [],
      "metadata": {
        "id": "AbMYMRo4Hr4h"
      },
      "execution_count": null,
      "outputs": []
    },
    {
      "cell_type": "markdown",
      "source": [
        "Multiclass Logistic"
      ],
      "metadata": {
        "id": "bk1s5MlBM7hz"
      }
    },
    {
      "cell_type": "code",
      "source": [
        "import numpy as np\n",
        "import pandas as pd\n",
        "from sklearn.model_selection import train_test_split\n",
        "from sklearn.linear_model import LogisticRegression\n",
        "from sklearn.metrics import accuracy_score, classification_report\n",
        "from sklearn.datasets import load_iris\n",
        "\n",
        "X_train, X_test, y_train, y_test = train_test_split(X, y, test_size=0.2, random_state=42)\n",
        "\n",
        "model = LogisticRegression(multi_class='multinomial', solver='lbfgs', max_iter=10000)\n",
        "\n",
        "model.fit(X_train, y_train)\n",
        "\n",
        "predictions = model.predict(X_test)\n",
        "\n",
        "accuracy = accuracy_score(y_test, predictions)\n",
        "print(f\"Accuracy: {accuracy:.2f}\")\n",
        "\n",
        "print(\"Classification Report:\")\n",
        "print(classification_report(y_test, predictions))\n"
      ],
      "metadata": {
        "colab": {
          "base_uri": "https://localhost:8080/"
        },
        "id": "HNdpzXaXHr7Z",
        "outputId": "e10f6ba9-3d16-4d2e-d67d-2021febe1c34"
      },
      "execution_count": null,
      "outputs": [
        {
          "output_type": "stream",
          "name": "stderr",
          "text": [
            "/usr/local/lib/python3.10/dist-packages/sklearn/utils/validation.py:1143: DataConversionWarning: A column-vector y was passed when a 1d array was expected. Please change the shape of y to (n_samples, ), for example using ravel().\n",
            "  y = column_or_1d(y, warn=True)\n"
          ]
        },
        {
          "output_type": "stream",
          "name": "stdout",
          "text": [
            "Accuracy: 0.29\n",
            "Classification Report:\n",
            "              precision    recall  f1-score   support\n",
            "\n",
            "         0.0       0.29      0.51      0.37      1890\n",
            "         1.0       0.18      0.01      0.03      1534\n",
            "         2.0       0.00      0.00      0.00      1342\n",
            "         3.0       0.22      0.02      0.03      1354\n",
            "         4.0       0.29      0.70      0.41      1809\n",
            "\n",
            "    accuracy                           0.29      7929\n",
            "   macro avg       0.19      0.25      0.17      7929\n",
            "weighted avg       0.21      0.29      0.19      7929\n",
            "\n"
          ]
        },
        {
          "output_type": "stream",
          "name": "stderr",
          "text": [
            "/usr/local/lib/python3.10/dist-packages/sklearn/metrics/_classification.py:1344: UndefinedMetricWarning: Precision and F-score are ill-defined and being set to 0.0 in labels with no predicted samples. Use `zero_division` parameter to control this behavior.\n",
            "  _warn_prf(average, modifier, msg_start, len(result))\n",
            "/usr/local/lib/python3.10/dist-packages/sklearn/metrics/_classification.py:1344: UndefinedMetricWarning: Precision and F-score are ill-defined and being set to 0.0 in labels with no predicted samples. Use `zero_division` parameter to control this behavior.\n",
            "  _warn_prf(average, modifier, msg_start, len(result))\n",
            "/usr/local/lib/python3.10/dist-packages/sklearn/metrics/_classification.py:1344: UndefinedMetricWarning: Precision and F-score are ill-defined and being set to 0.0 in labels with no predicted samples. Use `zero_division` parameter to control this behavior.\n",
            "  _warn_prf(average, modifier, msg_start, len(result))\n"
          ]
        }
      ]
    },
    {
      "cell_type": "code",
      "source": [],
      "metadata": {
        "id": "QajLaJuiHr-n"
      },
      "execution_count": null,
      "outputs": []
    },
    {
      "cell_type": "code",
      "source": [],
      "metadata": {
        "id": "1qjeZIOOHsBg"
      },
      "execution_count": null,
      "outputs": []
    },
    {
      "cell_type": "markdown",
      "source": [
        "Softmax Neural Network"
      ],
      "metadata": {
        "id": "8DzeQNDjUMrq"
      }
    },
    {
      "cell_type": "code",
      "source": [
        "import numpy as np\n",
        "import pandas as pd\n",
        "from sklearn.datasets import load_iris\n",
        "from sklearn.model_selection import train_test_split\n",
        "from sklearn.decomposition import PCA\n",
        "from sklearn.preprocessing import StandardScaler\n",
        "from sklearn.metrics import accuracy_score\n",
        "from tensorflow.keras.models import Sequential\n",
        "from tensorflow.keras.layers import Dense\n",
        "\n",
        "X_train, X_test, y_train, y_test = train_test_split(X, y, test_size=0.2, random_state=42)\n",
        "\n",
        "scaler = StandardScaler()\n",
        "X_train_scaled = scaler.fit_transform(X_train)\n",
        "X_test_scaled = scaler.transform(X_test)\n",
        "\n",
        "\n",
        "model = Sequential([\n",
        "    Dense(64, activation='relu', input_shape=(X_train.shape[1],)),\n",
        "    Dense(32, activation='relu'),\n",
        "    Dense(5, activation='softmax')\n",
        "])\n",
        "\n",
        "model.compile(optimizer='adam', loss='sparse_categorical_crossentropy', metrics=['accuracy'])\n",
        "\n",
        "model.fit(X_train, y_train, epochs=10, batch_size=32, validation_split=0.2)\n",
        "\n",
        "predictions = model.predict(X_test)\n",
        "predicted_labels = np.argmax(predictions, axis=1)\n",
        "\n",
        "accuracy = accuracy_score(y_test, predicted_labels)\n",
        "print(f\"Accuracy: {accuracy:.2f}\")\n"
      ],
      "metadata": {
        "colab": {
          "base_uri": "https://localhost:8080/"
        },
        "id": "m8mTR1cmHsHh",
        "outputId": "ad8448a9-332b-47bb-ee09-764055039d1a"
      },
      "execution_count": null,
      "outputs": [
        {
          "output_type": "stream",
          "name": "stdout",
          "text": [
            "Epoch 1/10\n",
            "793/793 [==============================] - 3s 3ms/step - loss: 710.0567 - accuracy: 0.2047 - val_loss: 656.9084 - val_accuracy: 0.2250\n",
            "Epoch 2/10\n",
            "793/793 [==============================] - 3s 4ms/step - loss: 402.7091 - accuracy: 0.2126 - val_loss: 762.5594 - val_accuracy: 0.1785\n",
            "Epoch 3/10\n",
            "793/793 [==============================] - 2s 3ms/step - loss: 340.9940 - accuracy: 0.2150 - val_loss: 194.5661 - val_accuracy: 0.2370\n",
            "Epoch 4/10\n",
            "793/793 [==============================] - 2s 2ms/step - loss: 306.7939 - accuracy: 0.2171 - val_loss: 201.4805 - val_accuracy: 0.2217\n",
            "Epoch 5/10\n",
            "793/793 [==============================] - 2s 3ms/step - loss: 290.9355 - accuracy: 0.2115 - val_loss: 293.5481 - val_accuracy: 0.1941\n",
            "Epoch 6/10\n",
            "793/793 [==============================] - 2s 3ms/step - loss: 198.7858 - accuracy: 0.2135 - val_loss: 160.3003 - val_accuracy: 0.2029\n",
            "Epoch 7/10\n",
            "793/793 [==============================] - 2s 3ms/step - loss: 155.8414 - accuracy: 0.2105 - val_loss: 234.6745 - val_accuracy: 0.2193\n",
            "Epoch 8/10\n",
            "793/793 [==============================] - 3s 4ms/step - loss: 91.0736 - accuracy: 0.1989 - val_loss: 1.6138 - val_accuracy: 0.2349\n",
            "Epoch 9/10\n",
            "793/793 [==============================] - 2s 3ms/step - loss: 1.6124 - accuracy: 0.2272 - val_loss: 1.6058 - val_accuracy: 0.2351\n",
            "Epoch 10/10\n",
            "793/793 [==============================] - 2s 3ms/step - loss: 1.6057 - accuracy: 0.2273 - val_loss: 1.6032 - val_accuracy: 0.2351\n",
            "248/248 [==============================] - 0s 2ms/step\n",
            "Accuracy: 0.24\n"
          ]
        }
      ]
    },
    {
      "cell_type": "code",
      "source": [],
      "metadata": {
        "id": "lJPHmMHgM-Cu"
      },
      "execution_count": null,
      "outputs": []
    },
    {
      "cell_type": "code",
      "source": [],
      "metadata": {
        "id": "9Nkc14PkM-F2"
      },
      "execution_count": null,
      "outputs": []
    },
    {
      "cell_type": "markdown",
      "source": [
        "Random Forest Classifier with PCA"
      ],
      "metadata": {
        "id": "gnR1LBmVfpW1"
      }
    },
    {
      "cell_type": "code",
      "source": [
        "import numpy as np\n",
        "import pandas as pd\n",
        "from sklearn.datasets import load_iris\n",
        "from sklearn.model_selection import train_test_split\n",
        "from sklearn.ensemble import RandomForestClassifier\n",
        "from sklearn.decomposition import PCA\n",
        "from sklearn.metrics import accuracy_score\n",
        "from sklearn.preprocessing import StandardScaler\n",
        "\n",
        "X_train, X_test, y_train, y_test = train_test_split(X, y, test_size=0.2, random_state=42)\n",
        "\n",
        "scaler = StandardScaler()\n",
        "X_train_scaled = scaler.fit_transform(X_train)\n",
        "X_test_scaled = scaler.transform(X_test)\n",
        "\n",
        "for i in range(2,15,2):\n",
        "    pca = PCA(n_components=i)\n",
        "    X_train_pca = pca.fit_transform(X_train_scaled)\n",
        "    X_test_pca = pca.transform(X_test_scaled)\n",
        "\n",
        "    clf = RandomForestClassifier(n_estimators=100, random_state=42)\n",
        "\n",
        "    clf.fit(X_train_pca, y_train)\n",
        "\n",
        "    predictions = clf.predict(X_test_pca)\n",
        "\n",
        "    accuracy = accuracy_score(y_test, predictions)\n",
        "    print(f\"Accuracy for {i} components: {accuracy:.2f}\")\n"
      ],
      "metadata": {
        "id": "9NR_0w9GM-JJ",
        "colab": {
          "base_uri": "https://localhost:8080/"
        },
        "outputId": "db7373c7-17a0-42e4-ab6d-0f836a17a1fa"
      },
      "execution_count": null,
      "outputs": [
        {
          "output_type": "stream",
          "name": "stderr",
          "text": [
            "<ipython-input-27-36d4ff13d9c0>:28: DataConversionWarning: A column-vector y was passed when a 1d array was expected. Please change the shape of y to (n_samples,), for example using ravel().\n",
            "  clf.fit(X_train_pca, y_train)\n"
          ]
        },
        {
          "output_type": "stream",
          "name": "stdout",
          "text": [
            "Accuracy for 2 components: 0.23\n"
          ]
        },
        {
          "output_type": "stream",
          "name": "stderr",
          "text": [
            "<ipython-input-27-36d4ff13d9c0>:28: DataConversionWarning: A column-vector y was passed when a 1d array was expected. Please change the shape of y to (n_samples,), for example using ravel().\n",
            "  clf.fit(X_train_pca, y_train)\n"
          ]
        },
        {
          "output_type": "stream",
          "name": "stdout",
          "text": [
            "Accuracy for 4 components: 0.25\n"
          ]
        },
        {
          "output_type": "stream",
          "name": "stderr",
          "text": [
            "<ipython-input-27-36d4ff13d9c0>:28: DataConversionWarning: A column-vector y was passed when a 1d array was expected. Please change the shape of y to (n_samples,), for example using ravel().\n",
            "  clf.fit(X_train_pca, y_train)\n"
          ]
        },
        {
          "output_type": "stream",
          "name": "stdout",
          "text": [
            "Accuracy for 6 components: 0.29\n"
          ]
        },
        {
          "output_type": "stream",
          "name": "stderr",
          "text": [
            "<ipython-input-27-36d4ff13d9c0>:28: DataConversionWarning: A column-vector y was passed when a 1d array was expected. Please change the shape of y to (n_samples,), for example using ravel().\n",
            "  clf.fit(X_train_pca, y_train)\n"
          ]
        },
        {
          "output_type": "stream",
          "name": "stdout",
          "text": [
            "Accuracy for 8 components: 0.30\n"
          ]
        },
        {
          "output_type": "stream",
          "name": "stderr",
          "text": [
            "<ipython-input-27-36d4ff13d9c0>:28: DataConversionWarning: A column-vector y was passed when a 1d array was expected. Please change the shape of y to (n_samples,), for example using ravel().\n",
            "  clf.fit(X_train_pca, y_train)\n"
          ]
        },
        {
          "output_type": "stream",
          "name": "stdout",
          "text": [
            "Accuracy for 10 components: 0.31\n"
          ]
        },
        {
          "output_type": "stream",
          "name": "stderr",
          "text": [
            "<ipython-input-27-36d4ff13d9c0>:28: DataConversionWarning: A column-vector y was passed when a 1d array was expected. Please change the shape of y to (n_samples,), for example using ravel().\n",
            "  clf.fit(X_train_pca, y_train)\n"
          ]
        },
        {
          "output_type": "stream",
          "name": "stdout",
          "text": [
            "Accuracy for 12 components: 0.31\n"
          ]
        },
        {
          "output_type": "stream",
          "name": "stderr",
          "text": [
            "<ipython-input-27-36d4ff13d9c0>:28: DataConversionWarning: A column-vector y was passed when a 1d array was expected. Please change the shape of y to (n_samples,), for example using ravel().\n",
            "  clf.fit(X_train_pca, y_train)\n"
          ]
        },
        {
          "output_type": "stream",
          "name": "stdout",
          "text": [
            "Accuracy for 14 components: 0.31\n"
          ]
        }
      ]
    },
    {
      "cell_type": "code",
      "source": [],
      "metadata": {
        "id": "Tr4VxBJQfnP_"
      },
      "execution_count": null,
      "outputs": []
    },
    {
      "cell_type": "code",
      "source": [],
      "metadata": {
        "id": "xbiTf28tfnTP"
      },
      "execution_count": null,
      "outputs": []
    },
    {
      "cell_type": "markdown",
      "source": [
        "Logistic with PCA"
      ],
      "metadata": {
        "id": "YR_RinkWuev6"
      }
    },
    {
      "cell_type": "code",
      "source": [
        "import numpy as np\n",
        "import pandas as pd\n",
        "from sklearn.datasets import load_iris\n",
        "from sklearn.model_selection import train_test_split\n",
        "from sklearn.linear_model import LogisticRegression\n",
        "from sklearn.decomposition import PCA\n",
        "from sklearn.metrics import accuracy_score\n",
        "from sklearn.preprocessing import StandardScaler\n",
        "\n",
        "\n",
        "X_train, X_test, y_train, y_test = train_test_split(X, y, test_size=0.2, random_state=42)\n",
        "\n",
        "scaler = StandardScaler()\n",
        "X_train_scaled = scaler.fit_transform(X_train)\n",
        "X_test_scaled = scaler.transform(X_test)\n",
        "\n",
        "for i in range(2,15,2):\n",
        "    pca = PCA(n_components=i)\n",
        "    X_train_pca = pca.fit_transform(X_train_scaled)\n",
        "    X_test_pca = pca.transform(X_test_scaled)\n",
        "\n",
        "    clf = LogisticRegression(multi_class='multinomial', solver='lbfgs')\n",
        "\n",
        "    clf.fit(X_train_pca, y_train)\n",
        "\n",
        "    predictions = clf.predict(X_test_pca)\n",
        "\n",
        "    accuracy = accuracy_score(y_test, predictions)\n",
        "    print(f\"Accuracy for {i} components: {accuracy:.2f}\")\n"
      ],
      "metadata": {
        "colab": {
          "base_uri": "https://localhost:8080/"
        },
        "id": "r9JTNMvhfnWo",
        "outputId": "25f695a5-69d8-4782-8b9e-97abe312c344"
      },
      "execution_count": null,
      "outputs": [
        {
          "output_type": "stream",
          "name": "stderr",
          "text": [
            "/usr/local/lib/python3.10/dist-packages/sklearn/utils/validation.py:1143: DataConversionWarning: A column-vector y was passed when a 1d array was expected. Please change the shape of y to (n_samples, ), for example using ravel().\n",
            "  y = column_or_1d(y, warn=True)\n"
          ]
        },
        {
          "output_type": "stream",
          "name": "stdout",
          "text": [
            "Accuracy for 2 components: 0.27\n"
          ]
        },
        {
          "output_type": "stream",
          "name": "stderr",
          "text": [
            "/usr/local/lib/python3.10/dist-packages/sklearn/utils/validation.py:1143: DataConversionWarning: A column-vector y was passed when a 1d array was expected. Please change the shape of y to (n_samples, ), for example using ravel().\n",
            "  y = column_or_1d(y, warn=True)\n"
          ]
        },
        {
          "output_type": "stream",
          "name": "stdout",
          "text": [
            "Accuracy for 4 components: 0.28\n"
          ]
        },
        {
          "output_type": "stream",
          "name": "stderr",
          "text": [
            "/usr/local/lib/python3.10/dist-packages/sklearn/utils/validation.py:1143: DataConversionWarning: A column-vector y was passed when a 1d array was expected. Please change the shape of y to (n_samples, ), for example using ravel().\n",
            "  y = column_or_1d(y, warn=True)\n"
          ]
        },
        {
          "output_type": "stream",
          "name": "stdout",
          "text": [
            "Accuracy for 6 components: 0.30\n"
          ]
        },
        {
          "output_type": "stream",
          "name": "stderr",
          "text": [
            "/usr/local/lib/python3.10/dist-packages/sklearn/utils/validation.py:1143: DataConversionWarning: A column-vector y was passed when a 1d array was expected. Please change the shape of y to (n_samples, ), for example using ravel().\n",
            "  y = column_or_1d(y, warn=True)\n"
          ]
        },
        {
          "output_type": "stream",
          "name": "stdout",
          "text": [
            "Accuracy for 8 components: 0.30\n"
          ]
        },
        {
          "output_type": "stream",
          "name": "stderr",
          "text": [
            "/usr/local/lib/python3.10/dist-packages/sklearn/utils/validation.py:1143: DataConversionWarning: A column-vector y was passed when a 1d array was expected. Please change the shape of y to (n_samples, ), for example using ravel().\n",
            "  y = column_or_1d(y, warn=True)\n"
          ]
        },
        {
          "output_type": "stream",
          "name": "stdout",
          "text": [
            "Accuracy for 10 components: 0.30\n"
          ]
        },
        {
          "output_type": "stream",
          "name": "stderr",
          "text": [
            "/usr/local/lib/python3.10/dist-packages/sklearn/utils/validation.py:1143: DataConversionWarning: A column-vector y was passed when a 1d array was expected. Please change the shape of y to (n_samples, ), for example using ravel().\n",
            "  y = column_or_1d(y, warn=True)\n"
          ]
        },
        {
          "output_type": "stream",
          "name": "stdout",
          "text": [
            "Accuracy for 12 components: 0.31\n"
          ]
        },
        {
          "output_type": "stream",
          "name": "stderr",
          "text": [
            "/usr/local/lib/python3.10/dist-packages/sklearn/utils/validation.py:1143: DataConversionWarning: A column-vector y was passed when a 1d array was expected. Please change the shape of y to (n_samples, ), for example using ravel().\n",
            "  y = column_or_1d(y, warn=True)\n"
          ]
        },
        {
          "output_type": "stream",
          "name": "stdout",
          "text": [
            "Accuracy for 14 components: 0.31\n"
          ]
        }
      ]
    },
    {
      "cell_type": "code",
      "source": [],
      "metadata": {
        "id": "4lM3Y8jCM-L7"
      },
      "execution_count": null,
      "outputs": []
    },
    {
      "cell_type": "code",
      "source": [],
      "metadata": {
        "id": "NzTIKO5qM-PX"
      },
      "execution_count": null,
      "outputs": []
    },
    {
      "cell_type": "markdown",
      "source": [
        "Softmax with PCA"
      ],
      "metadata": {
        "id": "swZeWjbZvEnH"
      }
    },
    {
      "cell_type": "code",
      "source": [
        "import numpy as np\n",
        "import pandas as pd\n",
        "from sklearn.datasets import load_iris\n",
        "from sklearn.model_selection import train_test_split\n",
        "from sklearn.decomposition import PCA\n",
        "from sklearn.preprocessing import StandardScaler\n",
        "from sklearn.metrics import accuracy_score\n",
        "from tensorflow.keras.models import Sequential\n",
        "from tensorflow.keras.layers import Dense\n",
        "\n",
        "X_train, X_test, y_train, y_test = train_test_split(X, y, test_size=0.2, random_state=42)\n",
        "\n",
        "scaler = StandardScaler()\n",
        "X_train_scaled = scaler.fit_transform(X_train)\n",
        "X_test_scaled = scaler.transform(X_test)\n",
        "\n",
        "\n",
        "for i in range(2,15,2):\n",
        "    pca = PCA(n_components=i)\n",
        "    X_train_pca = pca.fit_transform(X_train_scaled)\n",
        "    X_test_pca = pca.transform(X_test_scaled)\n",
        "\n",
        "    model = Sequential([\n",
        "        Dense(64, activation='relu', input_shape=(X_train_pca.shape[1],)),\n",
        "        Dense(32, activation='relu'),\n",
        "        Dense(5, activation='softmax')\n",
        "    ])\n",
        "\n",
        "    model.compile(optimizer='adam', loss='sparse_categorical_crossentropy', metrics=['accuracy'])\n",
        "\n",
        "    model.fit(X_train_pca, y_train, epochs=10, batch_size=32, validation_split=0.2)\n",
        "\n",
        "    predictions = model.predict(X_test_pca)\n",
        "    predicted_labels = np.argmax(predictions, axis=1)\n",
        "\n",
        "    accuracy = accuracy_score(y_test, predicted_labels)\n",
        "    print(f\"Accuracy for {i} components: {accuracy:.2f}\")\n"
      ],
      "metadata": {
        "id": "ICHphoucHsKg",
        "colab": {
          "base_uri": "https://localhost:8080/"
        },
        "outputId": "6773b7aa-6543-495c-8632-e9b60130102c"
      },
      "execution_count": null,
      "outputs": [
        {
          "output_type": "stream",
          "name": "stdout",
          "text": [
            "Epoch 1/10\n",
            "793/793 [==============================] - 4s 3ms/step - loss: 1.5934 - accuracy: 0.2591 - val_loss: 1.5831 - val_accuracy: 0.2696\n",
            "Epoch 2/10\n",
            "793/793 [==============================] - 2s 2ms/step - loss: 1.5864 - accuracy: 0.2625 - val_loss: 1.5819 - val_accuracy: 0.2716\n",
            "Epoch 3/10\n",
            "793/793 [==============================] - 2s 2ms/step - loss: 1.5850 - accuracy: 0.2667 - val_loss: 1.5821 - val_accuracy: 0.2671\n",
            "Epoch 4/10\n",
            "793/793 [==============================] - 2s 2ms/step - loss: 1.5841 - accuracy: 0.2646 - val_loss: 1.5842 - val_accuracy: 0.2679\n",
            "Epoch 5/10\n",
            "793/793 [==============================] - 2s 2ms/step - loss: 1.5842 - accuracy: 0.2690 - val_loss: 1.5809 - val_accuracy: 0.2713\n",
            "Epoch 6/10\n",
            "793/793 [==============================] - 3s 3ms/step - loss: 1.5837 - accuracy: 0.2682 - val_loss: 1.5805 - val_accuracy: 0.2723\n",
            "Epoch 7/10\n",
            "793/793 [==============================] - 2s 3ms/step - loss: 1.5835 - accuracy: 0.2675 - val_loss: 1.5820 - val_accuracy: 0.2704\n",
            "Epoch 8/10\n",
            "793/793 [==============================] - 2s 2ms/step - loss: 1.5831 - accuracy: 0.2690 - val_loss: 1.5805 - val_accuracy: 0.2723\n",
            "Epoch 9/10\n",
            "793/793 [==============================] - 2s 2ms/step - loss: 1.5829 - accuracy: 0.2665 - val_loss: 1.5808 - val_accuracy: 0.2749\n",
            "Epoch 10/10\n",
            "793/793 [==============================] - 2s 2ms/step - loss: 1.5828 - accuracy: 0.2686 - val_loss: 1.5809 - val_accuracy: 0.2707\n",
            "248/248 [==============================] - 0s 1ms/step\n",
            "Accuracy for 2 components: 0.28\n",
            "Epoch 1/10\n",
            "793/793 [==============================] - 3s 3ms/step - loss: 1.5876 - accuracy: 0.2612 - val_loss: 1.5888 - val_accuracy: 0.2601\n",
            "Epoch 2/10\n",
            "793/793 [==============================] - 2s 2ms/step - loss: 1.5812 - accuracy: 0.2694 - val_loss: 1.5998 - val_accuracy: 0.2727\n",
            "Epoch 3/10\n",
            "793/793 [==============================] - 3s 3ms/step - loss: 1.5795 - accuracy: 0.2712 - val_loss: 1.6108 - val_accuracy: 0.2718\n",
            "Epoch 4/10\n",
            "793/793 [==============================] - 2s 3ms/step - loss: 1.5784 - accuracy: 0.2722 - val_loss: 1.6251 - val_accuracy: 0.2825\n",
            "Epoch 5/10\n",
            "793/793 [==============================] - 2s 3ms/step - loss: 1.5766 - accuracy: 0.2759 - val_loss: 1.6443 - val_accuracy: 0.2778\n",
            "Epoch 6/10\n",
            "793/793 [==============================] - 2s 2ms/step - loss: 1.5760 - accuracy: 0.2744 - val_loss: 1.6619 - val_accuracy: 0.2738\n",
            "Epoch 7/10\n",
            "793/793 [==============================] - 2s 2ms/step - loss: 1.5748 - accuracy: 0.2749 - val_loss: 1.6823 - val_accuracy: 0.2808\n",
            "Epoch 8/10\n",
            "793/793 [==============================] - 2s 2ms/step - loss: 1.5742 - accuracy: 0.2781 - val_loss: 1.6977 - val_accuracy: 0.2816\n",
            "Epoch 9/10\n",
            "793/793 [==============================] - 3s 4ms/step - loss: 1.5731 - accuracy: 0.2795 - val_loss: 1.7307 - val_accuracy: 0.2811\n",
            "Epoch 10/10\n",
            "793/793 [==============================] - 3s 3ms/step - loss: 1.5729 - accuracy: 0.2805 - val_loss: 1.7328 - val_accuracy: 0.2759\n",
            "248/248 [==============================] - 1s 2ms/step\n",
            "Accuracy for 4 components: 0.28\n",
            "Epoch 1/10\n",
            "793/793 [==============================] - 4s 3ms/step - loss: 1.5736 - accuracy: 0.2846 - val_loss: 1.5771 - val_accuracy: 0.3058\n",
            "Epoch 2/10\n",
            "793/793 [==============================] - 2s 3ms/step - loss: 1.5583 - accuracy: 0.2966 - val_loss: 1.5949 - val_accuracy: 0.3057\n",
            "Epoch 3/10\n",
            "793/793 [==============================] - 3s 3ms/step - loss: 1.5534 - accuracy: 0.3021 - val_loss: 1.6075 - val_accuracy: 0.3099\n",
            "Epoch 4/10\n",
            "793/793 [==============================] - 2s 3ms/step - loss: 1.5511 - accuracy: 0.3060 - val_loss: 1.6249 - val_accuracy: 0.3107\n",
            "Epoch 5/10\n",
            "793/793 [==============================] - 2s 3ms/step - loss: 1.5479 - accuracy: 0.3049 - val_loss: 1.6383 - val_accuracy: 0.3123\n",
            "Epoch 6/10\n",
            "793/793 [==============================] - 2s 3ms/step - loss: 1.5465 - accuracy: 0.3053 - val_loss: 1.6497 - val_accuracy: 0.3152\n",
            "Epoch 7/10\n",
            "793/793 [==============================] - 2s 3ms/step - loss: 1.5450 - accuracy: 0.3102 - val_loss: 1.6559 - val_accuracy: 0.3131\n",
            "Epoch 8/10\n",
            "793/793 [==============================] - 2s 3ms/step - loss: 1.5439 - accuracy: 0.3079 - val_loss: 1.6794 - val_accuracy: 0.3150\n",
            "Epoch 9/10\n",
            "793/793 [==============================] - 2s 3ms/step - loss: 1.5426 - accuracy: 0.3118 - val_loss: 1.6712 - val_accuracy: 0.3095\n",
            "Epoch 10/10\n",
            "793/793 [==============================] - 2s 3ms/step - loss: 1.5419 - accuracy: 0.3112 - val_loss: 1.6893 - val_accuracy: 0.3104\n",
            "248/248 [==============================] - 0s 2ms/step\n",
            "Accuracy for 6 components: 0.31\n",
            "Epoch 1/10\n",
            "793/793 [==============================] - 3s 3ms/step - loss: 1.5719 - accuracy: 0.2852 - val_loss: 1.5713 - val_accuracy: 0.3036\n",
            "Epoch 2/10\n",
            "793/793 [==============================] - 2s 2ms/step - loss: 1.5489 - accuracy: 0.3034 - val_loss: 1.5851 - val_accuracy: 0.3137\n",
            "Epoch 3/10\n",
            "793/793 [==============================] - 2s 3ms/step - loss: 1.5430 - accuracy: 0.3087 - val_loss: 1.5998 - val_accuracy: 0.3063\n",
            "Epoch 4/10\n",
            "793/793 [==============================] - 3s 3ms/step - loss: 1.5398 - accuracy: 0.3118 - val_loss: 1.6073 - val_accuracy: 0.3126\n",
            "Epoch 5/10\n",
            "793/793 [==============================] - 2s 3ms/step - loss: 1.5375 - accuracy: 0.3123 - val_loss: 1.6174 - val_accuracy: 0.3058\n",
            "Epoch 6/10\n",
            "793/793 [==============================] - 2s 2ms/step - loss: 1.5356 - accuracy: 0.3151 - val_loss: 1.6262 - val_accuracy: 0.3106\n",
            "Epoch 7/10\n",
            "793/793 [==============================] - 2s 3ms/step - loss: 1.5344 - accuracy: 0.3170 - val_loss: 1.6438 - val_accuracy: 0.3106\n",
            "Epoch 8/10\n",
            "793/793 [==============================] - 2s 3ms/step - loss: 1.5329 - accuracy: 0.3159 - val_loss: 1.6448 - val_accuracy: 0.3047\n",
            "Epoch 9/10\n",
            "793/793 [==============================] - 2s 3ms/step - loss: 1.5311 - accuracy: 0.3161 - val_loss: 1.6503 - val_accuracy: 0.3076\n",
            "Epoch 10/10\n",
            "793/793 [==============================] - 3s 3ms/step - loss: 1.5299 - accuracy: 0.3180 - val_loss: 1.6587 - val_accuracy: 0.3117\n",
            "248/248 [==============================] - 0s 1ms/step\n",
            "Accuracy for 8 components: 0.31\n",
            "Epoch 1/10\n",
            "793/793 [==============================] - 4s 5ms/step - loss: 1.5679 - accuracy: 0.2900 - val_loss: 1.5695 - val_accuracy: 0.3058\n",
            "Epoch 2/10\n",
            "793/793 [==============================] - 2s 3ms/step - loss: 1.5441 - accuracy: 0.3070 - val_loss: 1.5743 - val_accuracy: 0.3158\n",
            "Epoch 3/10\n",
            "793/793 [==============================] - 2s 3ms/step - loss: 1.5374 - accuracy: 0.3136 - val_loss: 1.5983 - val_accuracy: 0.3147\n",
            "Epoch 4/10\n",
            "793/793 [==============================] - 2s 3ms/step - loss: 1.5330 - accuracy: 0.3171 - val_loss: 1.6132 - val_accuracy: 0.3207\n",
            "Epoch 5/10\n",
            "793/793 [==============================] - 2s 3ms/step - loss: 1.5296 - accuracy: 0.3192 - val_loss: 1.6494 - val_accuracy: 0.3107\n",
            "Epoch 6/10\n",
            "793/793 [==============================] - 3s 4ms/step - loss: 1.5263 - accuracy: 0.3232 - val_loss: 1.6648 - val_accuracy: 0.3137\n",
            "Epoch 7/10\n",
            "793/793 [==============================] - 2s 3ms/step - loss: 1.5240 - accuracy: 0.3211 - val_loss: 1.6980 - val_accuracy: 0.3178\n",
            "Epoch 8/10\n",
            "793/793 [==============================] - 2s 3ms/step - loss: 1.5213 - accuracy: 0.3246 - val_loss: 1.7246 - val_accuracy: 0.3183\n",
            "Epoch 9/10\n",
            "793/793 [==============================] - 2s 3ms/step - loss: 1.5195 - accuracy: 0.3233 - val_loss: 1.7421 - val_accuracy: 0.3134\n",
            "Epoch 10/10\n",
            "793/793 [==============================] - 2s 3ms/step - loss: 1.5177 - accuracy: 0.3274 - val_loss: 1.7645 - val_accuracy: 0.3152\n",
            "248/248 [==============================] - 0s 1ms/step\n",
            "Accuracy for 10 components: 0.32\n",
            "Epoch 1/10\n",
            "793/793 [==============================] - 3s 3ms/step - loss: 1.5711 - accuracy: 0.2908 - val_loss: 1.5598 - val_accuracy: 0.3073\n",
            "Epoch 2/10\n",
            "793/793 [==============================] - 2s 2ms/step - loss: 1.5389 - accuracy: 0.3124 - val_loss: 1.5644 - val_accuracy: 0.3068\n",
            "Epoch 3/10\n",
            "793/793 [==============================] - 2s 3ms/step - loss: 1.5298 - accuracy: 0.3213 - val_loss: 1.5729 - val_accuracy: 0.3200\n",
            "Epoch 4/10\n",
            "793/793 [==============================] - 3s 4ms/step - loss: 1.5255 - accuracy: 0.3233 - val_loss: 1.5923 - val_accuracy: 0.3158\n",
            "Epoch 5/10\n",
            "793/793 [==============================] - 2s 3ms/step - loss: 1.5213 - accuracy: 0.3263 - val_loss: 1.6056 - val_accuracy: 0.3174\n",
            "Epoch 6/10\n",
            "793/793 [==============================] - 2s 3ms/step - loss: 1.5185 - accuracy: 0.3267 - val_loss: 1.6249 - val_accuracy: 0.3196\n",
            "Epoch 7/10\n",
            "793/793 [==============================] - 2s 3ms/step - loss: 1.5159 - accuracy: 0.3300 - val_loss: 1.6490 - val_accuracy: 0.3221\n",
            "Epoch 8/10\n",
            "793/793 [==============================] - 2s 3ms/step - loss: 1.5142 - accuracy: 0.3308 - val_loss: 1.6668 - val_accuracy: 0.3174\n",
            "Epoch 9/10\n",
            "793/793 [==============================] - 3s 4ms/step - loss: 1.5113 - accuracy: 0.3319 - val_loss: 1.6885 - val_accuracy: 0.3174\n",
            "Epoch 10/10\n",
            "793/793 [==============================] - 2s 3ms/step - loss: 1.5097 - accuracy: 0.3354 - val_loss: 1.7015 - val_accuracy: 0.3194\n",
            "248/248 [==============================] - 0s 1ms/step\n",
            "Accuracy for 12 components: 0.32\n",
            "Epoch 1/10\n",
            "793/793 [==============================] - 4s 4ms/step - loss: 1.5639 - accuracy: 0.2941 - val_loss: 1.5440 - val_accuracy: 0.3163\n",
            "Epoch 2/10\n",
            "793/793 [==============================] - 2s 3ms/step - loss: 1.5319 - accuracy: 0.3204 - val_loss: 1.5390 - val_accuracy: 0.3222\n",
            "Epoch 3/10\n",
            "793/793 [==============================] - 2s 3ms/step - loss: 1.5220 - accuracy: 0.3267 - val_loss: 1.5461 - val_accuracy: 0.3084\n",
            "Epoch 4/10\n",
            "793/793 [==============================] - 2s 3ms/step - loss: 1.5168 - accuracy: 0.3304 - val_loss: 1.5419 - val_accuracy: 0.3287\n",
            "Epoch 5/10\n",
            "793/793 [==============================] - 3s 4ms/step - loss: 1.5130 - accuracy: 0.3338 - val_loss: 1.5506 - val_accuracy: 0.3262\n",
            "Epoch 6/10\n",
            "793/793 [==============================] - 3s 3ms/step - loss: 1.5086 - accuracy: 0.3354 - val_loss: 1.5524 - val_accuracy: 0.3267\n",
            "Epoch 7/10\n",
            "793/793 [==============================] - 2s 3ms/step - loss: 1.5057 - accuracy: 0.3389 - val_loss: 1.5582 - val_accuracy: 0.3268\n",
            "Epoch 8/10\n",
            "793/793 [==============================] - 2s 2ms/step - loss: 1.5029 - accuracy: 0.3399 - val_loss: 1.5725 - val_accuracy: 0.3202\n",
            "Epoch 9/10\n",
            "793/793 [==============================] - 2s 2ms/step - loss: 1.5002 - accuracy: 0.3407 - val_loss: 1.5816 - val_accuracy: 0.3235\n",
            "Epoch 10/10\n",
            "793/793 [==============================] - 2s 3ms/step - loss: 1.4994 - accuracy: 0.3433 - val_loss: 1.5899 - val_accuracy: 0.3256\n",
            "248/248 [==============================] - 0s 1ms/step\n",
            "Accuracy for 14 components: 0.32\n"
          ]
        }
      ]
    },
    {
      "cell_type": "code",
      "source": [],
      "metadata": {
        "id": "lil37qfMu4vM"
      },
      "execution_count": null,
      "outputs": []
    },
    {
      "cell_type": "code",
      "source": [],
      "metadata": {
        "id": "2dFiAazBjuO_"
      },
      "execution_count": null,
      "outputs": []
    },
    {
      "cell_type": "code",
      "source": [],
      "metadata": {
        "id": "cSpUj1aojuST"
      },
      "execution_count": null,
      "outputs": []
    },
    {
      "cell_type": "code",
      "source": [],
      "metadata": {
        "id": "JGOenGlGu4yu"
      },
      "execution_count": null,
      "outputs": []
    },
    {
      "cell_type": "code",
      "source": [],
      "metadata": {
        "id": "cWWfN0oGHsOA"
      },
      "execution_count": null,
      "outputs": []
    },
    {
      "cell_type": "markdown",
      "source": [
        "Linear regression, Lasso and Ridge reugularization"
      ],
      "metadata": {
        "id": "56CtSZbTINHR"
      }
    },
    {
      "cell_type": "code",
      "source": [
        "from sklearn import preprocessing\n",
        "from sklearn.model_selection import train_test_split\n",
        "from sklearn.linear_model import LinearRegression, Lasso, Ridge\n",
        "from sklearn.metrics import mean_squared_error, mean_absolute_error, r2_score\n",
        "\n",
        "\n",
        "X_train, X_test, y_train, y_test = train_test_split(X, y, test_size=0.2, random_state=42)\n",
        "\n",
        "linear_model = LinearRegression()\n",
        "linear_model.fit(X_train, y_train)\n",
        "\n",
        "y_test_pred_linear = linear_model.predict(X_test)\n",
        "\n",
        "mse_linear = mean_squared_error(y_test, y_test_pred_linear)\n",
        "rmse_linear = np.sqrt(mse_linear)\n",
        "r2_linear = r2_score(y_test, y_test_pred_linear)\n",
        "n = len(X_test)\n",
        "p = X_test.shape[1]\n",
        "adjusted_r2_linear = 1 - (1 - r2_linear) * (n - 1) / (n - p - 1)\n",
        "mae_linear = mean_absolute_error(y_test, y_test_pred_linear)\n",
        "\n",
        "lasso_model = Lasso(alpha=1.0)\n",
        "lasso_model.fit(X_train, y_train)\n",
        "\n",
        "y_test_pred_lasso = lasso_model.predict(X_test)\n",
        "\n",
        "mse_lasso = mean_squared_error(y_test, y_test_pred_lasso)\n",
        "rmse_lasso = np.sqrt(mse_lasso)\n",
        "r2_lasso = r2_score(y_test, y_test_pred_lasso)\n",
        "adjusted_r2_lasso = 1 - (1 - r2_lasso) * (n - 1) / (n - p - 1)\n",
        "mae_lasso = mean_absolute_error(y_test, y_test_pred_lasso)\n",
        "\n",
        "ridge_model = Ridge(alpha=1.0)\n",
        "ridge_model.fit(X_train, y_train)\n",
        "\n",
        "y_test_pred_ridge = ridge_model.predict(X_test)\n",
        "\n",
        "mse_ridge = mean_squared_error(y_test, y_test_pred_ridge)\n",
        "rmse_ridge = np.sqrt(mse_ridge)\n",
        "r2_ridge = r2_score(y_test, y_test_pred_ridge)\n",
        "adjusted_r2_ridge = 1 - (1 - r2_ridge) * (n - 1) / (n - p - 1)\n",
        "mae_ridge = mean_absolute_error(y_test, y_test_pred_ridge)\n",
        "\n",
        "print(\"Linear Regression:\")\n",
        "print(\"MSE:\", mse_linear)\n",
        "print(\"RMSE:\", rmse_linear)\n",
        "print(\"R2 Score:\", r2_linear)\n",
        "print(\"Adjusted R2 Score:\", adjusted_r2_linear)\n",
        "print(\"MAE:\", mae_linear)\n",
        "print(\"-\" * 40)\n",
        "\n",
        "print(\"Lasso Regression (L1 Regularization):\")\n",
        "print(\"MSE:\", mse_lasso)\n",
        "print(\"RMSE:\", rmse_lasso)\n",
        "print(\"R2 Score:\", r2_lasso)\n",
        "print(\"Adjusted R2 Score:\", adjusted_r2_lasso)\n",
        "print(\"MAE:\", mae_lasso)\n",
        "print(\"-\" * 40)\n",
        "\n",
        "print(\"Ridge Regression (L2 Regularization):\")\n",
        "print(\"MSE:\", mse_ridge)\n",
        "print(\"RMSE:\", rmse_ridge)\n",
        "print(\"R2 Score:\", r2_ridge)\n",
        "print(\"Adjusted R2 Score:\", adjusted_r2_ridge)\n",
        "print(\"MAE:\", mae_ridge)\n"
      ],
      "metadata": {
        "colab": {
          "base_uri": "https://localhost:8080/"
        },
        "id": "N2mlCESVFhR3",
        "outputId": "659f1710-cab1-4eb2-bf92-929035d852a4"
      },
      "execution_count": null,
      "outputs": [
        {
          "output_type": "stream",
          "name": "stdout",
          "text": [
            "Linear Regression:\n",
            "MSE: 235454619.4361794\n",
            "RMSE: 15344.530603318546\n",
            "R2 Score: 0.0155527362584158\n",
            "Adjusted R2 Score: 0.008203228199048396\n",
            "MAE: 3193.3885070041324\n",
            "----------------------------------------\n",
            "Lasso Regression (L1 Regularization):\n",
            "MSE: 235419818.3610353\n",
            "RMSE: 15343.396571849249\n",
            "R2 Score: 0.015698241253318423\n",
            "Adjusted R2 Score: 0.008349819478785325\n",
            "MAE: 3188.791321303149\n",
            "----------------------------------------\n",
            "Ridge Regression (L2 Regularization):\n",
            "MSE: 235442827.7590799\n",
            "RMSE: 15344.146367885047\n",
            "R2 Score: 0.015602037836287996\n",
            "Adjusted R2 Score: 0.008252897843710194\n",
            "MAE: 3191.935485790969\n"
          ]
        }
      ]
    },
    {
      "cell_type": "code",
      "source": [],
      "metadata": {
        "id": "jEEKrvtiFhZQ"
      },
      "execution_count": null,
      "outputs": []
    },
    {
      "cell_type": "code",
      "source": [],
      "metadata": {
        "id": "5cQGc1XgFhcp"
      },
      "execution_count": null,
      "outputs": []
    },
    {
      "cell_type": "code",
      "source": [],
      "metadata": {
        "id": "BhevhCs9IXFH"
      },
      "execution_count": null,
      "outputs": []
    },
    {
      "cell_type": "markdown",
      "source": [
        "PCA"
      ],
      "metadata": {
        "id": "oLW6gQ0bIYCJ"
      }
    },
    {
      "cell_type": "code",
      "source": [
        "from sklearn import preprocessing\n",
        "from sklearn.model_selection import train_test_split\n",
        "from sklearn.linear_model import LinearRegression\n",
        "from sklearn.metrics import mean_squared_error, mean_absolute_error, r2_score\n",
        "from sklearn.decomposition import PCA\n",
        "\n",
        "X_train, X_test, y_train, y_test = train_test_split(X, y, test_size=0.2, random_state=42)\n",
        "\n",
        "n_components_list = [2, 4, 6, 8, 10, 12]\n",
        "\n",
        "mse_train_list = []\n",
        "mse_test_list = []\n",
        "rmse_train_list = []\n",
        "rmse_test_list = []\n",
        "r2_train_list = []\n",
        "r2_test_list = []\n",
        "adjusted_r2_test_list = []\n",
        "adjusted_r2_train_list = []\n",
        "mae_train_list = []\n",
        "mae_test_list = []\n",
        "\n",
        "for n_components in n_components_list:\n",
        "    pca = PCA(n_components=n_components)\n",
        "    X_train_pca = pca.fit_transform(X_train)\n",
        "    X_test_pca = pca.transform(X_test)\n",
        "\n",
        "    model = LinearRegression()\n",
        "    model.fit(X_train_pca, y_train)\n",
        "\n",
        "    y_train_pred = model.predict(X_train_pca)\n",
        "    y_test_pred = model.predict(X_test_pca)\n",
        "\n",
        "    mse_train = mean_squared_error(y_train, y_train_pred)\n",
        "    mse_test = mean_squared_error(y_test, y_test_pred)\n",
        "    rmse_train = np.sqrt(mse_train)\n",
        "    rmse_test = np.sqrt(mse_test)\n",
        "    r2_train = r2_score(y_train, y_train_pred)\n",
        "    r2_test = r2_score(y_test, y_test_pred)\n",
        "\n",
        "    n = len(X_test)\n",
        "    p = n_components\n",
        "    adjusted_r2_test = 1 - (1 - r2_test) * (n - 1) / (n - p - 1)\n",
        "\n",
        "    n2 = len(X_train)\n",
        "    p2 = n_components\n",
        "    adjusted_r2_train = 1 - (1 - r2_train) * (n2 - 1) / (n2 - p2 - 1)\n",
        "\n",
        "    mae_train = mean_absolute_error(y_train, y_train_pred)\n",
        "    mae_test = mean_absolute_error(y_test, y_test_pred)\n",
        "\n",
        "    mse_train_list.append(mse_train)\n",
        "    mse_test_list.append(mse_test)\n",
        "    rmse_train_list.append(rmse_train)\n",
        "    rmse_test_list.append(rmse_test)\n",
        "    r2_train_list.append(r2_train)\n",
        "    r2_test_list.append(r2_test)\n",
        "    adjusted_r2_test_list.append(adjusted_r2_test)\n",
        "    adjusted_r2_train_list.append(adjusted_r2_train)\n",
        "    mae_train_list.append(mae_train)\n",
        "    mae_test_list.append(mae_test)\n",
        "\n",
        "for i, n_components in enumerate(n_components_list):\n",
        "    print(f\"Number of Components: {n_components}\")\n",
        "    print(f\"Train MSE: {mse_train_list[i]:.2f}\")\n",
        "    print(f\"Test MSE: {mse_test_list[i]:.2f}\")\n",
        "    print(f\"Train RMSE: {rmse_train_list[i]:.2f}\")\n",
        "    print(f\"Test RMSE: {rmse_test_list[i]:.2f}\")\n",
        "    print(f\"Train R2 Score: {r2_train_list[i]:.2f}\")\n",
        "    print(f\"Test R2 Score: {r2_test_list[i]:.2f}\")\n",
        "    print(f\"Adjusted R2 Score (Test): {adjusted_r2_test_list[i]:.2f}\")\n",
        "    print(f\"Adjusted R2 Score (Train): {adjusted_r2_train_list[i]:.2f}\")\n",
        "    print(f\"Train MAE: {mae_train_list[i]:.2f}\")\n",
        "    print(f\"Test MAE: {mae_test_list[i]:.2f}\")\n",
        "    print(\"-\" * 40)\n"
      ],
      "metadata": {
        "colab": {
          "base_uri": "https://localhost:8080/"
        },
        "id": "oUeUtKBfIXJ8",
        "outputId": "953943d5-018e-4c00-fc28-2a2a80911c17"
      },
      "execution_count": null,
      "outputs": [
        {
          "output_type": "stream",
          "name": "stdout",
          "text": [
            "Number of Components: 2\n",
            "Train MSE: 107787542.34\n",
            "Test MSE: 238844072.22\n",
            "Train RMSE: 10382.08\n",
            "Test RMSE: 15454.58\n",
            "Train R2 Score: 0.00\n",
            "Test R2 Score: 0.00\n",
            "Adjusted R2 Score (Test): 0.00\n",
            "Adjusted R2 Score (Train): 0.00\n",
            "Train MAE: 3044.56\n",
            "Test MAE: 3349.21\n",
            "----------------------------------------\n",
            "Number of Components: 4\n",
            "Train MSE: 107558733.73\n",
            "Test MSE: 237757123.85\n",
            "Train RMSE: 10371.05\n",
            "Test RMSE: 15419.37\n",
            "Train R2 Score: 0.00\n",
            "Test R2 Score: 0.01\n",
            "Adjusted R2 Score (Test): 0.01\n",
            "Adjusted R2 Score (Train): 0.00\n",
            "Train MAE: 3032.53\n",
            "Test MAE: 3329.96\n",
            "----------------------------------------\n",
            "Number of Components: 6\n",
            "Train MSE: 107086899.48\n",
            "Test MSE: 237481569.44\n",
            "Train RMSE: 10348.28\n",
            "Test RMSE: 15410.44\n",
            "Train R2 Score: 0.01\n",
            "Test R2 Score: 0.01\n",
            "Adjusted R2 Score (Test): 0.01\n",
            "Adjusted R2 Score (Train): 0.01\n",
            "Train MAE: 3004.53\n",
            "Test MAE: 3300.22\n",
            "----------------------------------------\n",
            "Number of Components: 8\n",
            "Train MSE: 107086286.68\n",
            "Test MSE: 237440110.82\n",
            "Train RMSE: 10348.25\n",
            "Test RMSE: 15409.09\n",
            "Train R2 Score: 0.01\n",
            "Test R2 Score: 0.01\n",
            "Adjusted R2 Score (Test): 0.01\n",
            "Adjusted R2 Score (Train): 0.01\n",
            "Train MAE: 3004.06\n",
            "Test MAE: 3299.31\n",
            "----------------------------------------\n",
            "Number of Components: 10\n",
            "Train MSE: 106319729.49\n",
            "Test MSE: 235993941.57\n",
            "Train RMSE: 10311.15\n",
            "Test RMSE: 15362.09\n",
            "Train R2 Score: 0.02\n",
            "Test R2 Score: 0.01\n",
            "Adjusted R2 Score (Test): 0.01\n",
            "Adjusted R2 Score (Train): 0.02\n",
            "Train MAE: 2957.05\n",
            "Test MAE: 3237.84\n",
            "----------------------------------------\n",
            "Number of Components: 12\n",
            "Train MSE: 105782031.59\n",
            "Test MSE: 235683811.08\n",
            "Train RMSE: 10285.04\n",
            "Test RMSE: 15352.00\n",
            "Train R2 Score: 0.02\n",
            "Test R2 Score: 0.01\n",
            "Adjusted R2 Score (Test): 0.01\n",
            "Adjusted R2 Score (Train): 0.02\n",
            "Train MAE: 2920.18\n",
            "Test MAE: 3214.26\n",
            "----------------------------------------\n"
          ]
        }
      ]
    },
    {
      "cell_type": "code",
      "source": [],
      "metadata": {
        "id": "B4QcVB4LoiBt"
      },
      "execution_count": null,
      "outputs": []
    },
    {
      "cell_type": "code",
      "source": [],
      "metadata": {
        "id": "8nnDA90coiFe"
      },
      "execution_count": null,
      "outputs": []
    },
    {
      "cell_type": "code",
      "source": [],
      "metadata": {
        "id": "s_aTXVkVoiI0"
      },
      "execution_count": null,
      "outputs": []
    }
  ]
}